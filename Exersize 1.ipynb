{
 "cells": [
  {
   "cell_type": "code",
   "execution_count": 25,
   "id": "a68cf057-bdb1-4dc5-a96d-f47838d9ae9b",
   "metadata": {},
   "outputs": [],
   "source": [
    "import math"
   ]
  },
  {
   "cell_type": "code",
   "execution_count": 26,
   "id": "3426f6ce-bb87-4d18-bbfe-b27ee160db5f",
   "metadata": {},
   "outputs": [],
   "source": [
    "ice_cream_rating = 8\n",
    "sleep_rating = 10"
   ]
  },
  {
   "cell_type": "code",
   "execution_count": 29,
   "id": "1a4e0f09-9bd6-4634-9951-c2ac7c65bef0",
   "metadata": {},
   "outputs": [
    {
     "name": "stdin",
     "output_type": "stream",
     "text": [
      "what is your first name? Jake\n",
      " what is your last name? Stanaway\n"
     ]
    }
   ],
   "source": [
    "first_name = input ( \"what is your first name?\" )\n",
    "last_name = input (\" what is your last name?\" )\n"
   ]
  },
  {
   "cell_type": "code",
   "execution_count": 30,
   "id": "315d4c24-3e66-455c-ac0e-208d85495ddf",
   "metadata": {},
   "outputs": [
    {
     "name": "stdout",
     "output_type": "stream",
     "text": [
      "Jake Stanaway\n"
     ]
    }
   ],
   "source": [
    "print(first_name, last_name)"
   ]
  },
  {
   "cell_type": "code",
   "execution_count": 31,
   "id": "ca48480d-7c3d-43a4-9f53-340fc82e7bc1",
   "metadata": {},
   "outputs": [
    {
     "name": "stdout",
     "output_type": "stream",
     "text": [
      "Jake Stanaway\n"
     ]
    }
   ],
   "source": [
    "my_name = f'{first_name} {last_name}'\n",
    "print(my_name)"
   ]
  },
  {
   "cell_type": "code",
   "execution_count": 35,
   "id": "2af19667-9ce2-43d1-9bd6-2c312fbd27e5",
   "metadata": {},
   "outputs": [
    {
     "name": "stdout",
     "output_type": "stream",
     "text": [
      "9.0\n"
     ]
    }
   ],
   "source": [
    "happiness_rating = ((ice_cream_rating + sleep_rating) / 2)\n",
    "print(happiness_rating)"
   ]
  },
  {
   "cell_type": "code",
   "execution_count": 33,
   "id": "bc96800a-e828-4cfa-bf21-932a424c866e",
   "metadata": {},
   "outputs": [
    {
     "name": "stdout",
     "output_type": "stream",
     "text": [
      "(<class 'int'>, <class 'str'>, <class 'float'>)\n"
     ]
    }
   ],
   "source": [
    "str = type(ice_cream_rating), type(first_name), type (happiness_rating)\n",
    "print(str)"
   ]
  },
  {
   "cell_type": "markdown",
   "id": "dafba1f6-4338-4d38-af3a-d01319d0994a",
   "metadata": {},
   "source": [
    "I didnt expect happiness_rating to be a float."
   ]
  },
  {
   "cell_type": "code",
   "execution_count": 41,
   "id": "e65d945b-abe1-44d9-b62f-370394f2ea55",
   "metadata": {},
   "outputs": [
    {
     "name": "stdout",
     "output_type": "stream",
     "text": [
      "My name is Jake and I give eating ice cream a score of: 8 out of 10!\n",
      "I am Jake Stanaway and my sleeping enjoyment is 10 out of 10!\n",
      "Based on the factors above, my happiness rating is 9.0 out of ten! or 90.0 %!\n"
     ]
    }
   ],
   "source": [
    "print(\n",
    "    \"My name is\"\n",
    "      , first_name\n",
    "      ,\"and I give eating ice cream a score of:\"\n",
    "      , ice_cream_rating\n",
    "      ,\"out of 10!\"\n",
    ")\n",
    "print(\n",
    "    \"I am\"\n",
    "      , my_name\n",
    "      ,\"and my sleeping enjoyment is\"\n",
    "      , sleep_rating \n",
    "      ,\"out of 10!\"\n",
    ")\n",
    "print(\n",
    "    \"Based on the factors above, my happiness rating is\"\n",
    "    , happiness_rating\n",
    "    ,\"out of ten!\"\n",
    "    ,\"or\", (9 / 10 * 100)\n",
    "    ,\"%!\"\n",
    ")    "
   ]
  },
  {
   "cell_type": "code",
   "execution_count": null,
   "id": "aaf05ea4-6126-427b-b8d1-084ca578e7e7",
   "metadata": {},
   "outputs": [],
   "source": []
  },
  {
   "cell_type": "code",
   "execution_count": null,
   "id": "5f5ffad3-2c87-456b-a517-acf6b96e278c",
   "metadata": {},
   "outputs": [],
   "source": []
  },
  {
   "cell_type": "code",
   "execution_count": null,
   "id": "a240a356-5b51-4ac0-acdc-79ced12908bf",
   "metadata": {},
   "outputs": [],
   "source": []
  }
 ],
 "metadata": {
  "kernelspec": {
   "display_name": "Python 3 (ipykernel)",
   "language": "python",
   "name": "python3"
  },
  "language_info": {
   "codemirror_mode": {
    "name": "ipython",
    "version": 3
   },
   "file_extension": ".py",
   "mimetype": "text/x-python",
   "name": "python",
   "nbconvert_exporter": "python",
   "pygments_lexer": "ipython3",
   "version": "3.7.12"
  }
 },
 "nbformat": 4,
 "nbformat_minor": 5
}
